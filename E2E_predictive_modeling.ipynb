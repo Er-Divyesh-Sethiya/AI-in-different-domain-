{
  "cells": [
    {
      "cell_type": "markdown",
      "metadata": {
        "id": "view-in-github",
        "colab_type": "text"
      },
      "source": [
        "<a href=\"https://colab.research.google.com/github/Er-Divyesh-Sethiya/AI-in-different-domain-/blob/main/E2E_predictive_modeling.ipynb\" target=\"_parent\"><img src=\"https://colab.research.google.com/assets/colab-badge.svg\" alt=\"Open In Colab\"/></a>"
      ]
    },
    {
      "cell_type": "markdown",
      "source": [
        "# Prerequisite"
      ],
      "metadata": {
        "id": "lKIus5QXZzjQ"
      }
    },
    {
      "cell_type": "markdown",
      "source": [
        "### [Sign Up](https://abacus.ai/app/signup?signupToken=e2e_ui) to get started with Abacus.AI platform\n",
        "\n"
      ],
      "metadata": {
        "id": "uJzAzTDDZuD1"
      }
    },
    {
      "cell_type": "markdown",
      "source": [
        "# Useful Snippets for Demo\n"
      ],
      "metadata": {
        "id": "CE_kh5zjWXUV"
      }
    },
    {
      "cell_type": "markdown",
      "source": [
        "## SQL"
      ],
      "metadata": {
        "id": "L6xCNMUhW3C2"
      }
    },
    {
      "cell_type": "code",
      "source": [
        "SELECT fixed_acidity+volatile_acidity AS total_acidity,\n",
        "       ph-(0.22*citric_acid) AS final_ph,\n",
        "       residual_sugar,\n",
        "       chlorides,\n",
        "       density,\n",
        "       sulphates,\n",
        "       alcohol,\n",
        "       free_sulfur_dioxide,\n",
        "       total_sulfur_dioxide,\n",
        "       quality\n",
        "  FROM <sample_data_red_wine_quality_1662652291>"
      ],
      "metadata": {
        "id": "e_toBvPkW77U"
      },
      "execution_count": null,
      "outputs": []
    },
    {
      "cell_type": "markdown",
      "source": [
        "## Python"
      ],
      "metadata": {
        "id": "93YHnU2-WzeM"
      }
    },
    {
      "cell_type": "code",
      "source": [
        "def transform_data(input_fg_df):\n",
        "    input_fg_df['final_ph'] = input_fg_df['pH']-(0.22*input_fg_df['citric_acid']) \n",
        "    input_fg_df['total_acidity'] = input_fg_df['fixed_acidity']+input_fg_df['volatile_acidity'] \n",
        "    return input_fg_df"
      ],
      "metadata": {
        "id": "32pWQ0-CWu2j"
      },
      "execution_count": null,
      "outputs": []
    },
    {
      "cell_type": "markdown",
      "source": [
        "# API Workbook (Optional)"
      ],
      "metadata": {
        "id": "3DKH7Wm0Xkkl"
      }
    },
    {
      "cell_type": "code",
      "source": [
        "!pip install abacusai"
      ],
      "metadata": {
        "id": "q3yDS9uuWQmB"
      },
      "execution_count": null,
      "outputs": []
    },
    {
      "cell_type": "markdown",
      "metadata": {
        "id": "RSrvk7cc8_80"
      },
      "source": [
        "We'll also import pandas and pprint tools for visualization in this notebook."
      ]
    },
    {
      "cell_type": "code",
      "execution_count": null,
      "metadata": {
        "id": "duIJqtxHikKL"
      },
      "outputs": [],
      "source": [
        "import pandas as pd # A tool we'll use to download and preview CSV files\n",
        "import pprint # A tool to pretty print dictionary outputs\n",
        "pp = pprint.PrettyPrinter(indent=2)"
      ]
    },
    {
      "cell_type": "markdown",
      "metadata": {
        "id": "7ROEzQKUtgLu"
      },
      "source": [
        "2. Add your Abacus.AI [API Key](https://abacus.ai/app/profile/apikey) generated using the API dashboard as follows:"
      ]
    },
    {
      "cell_type": "code",
      "execution_count": null,
      "metadata": {
        "id": "wFcHflu2ilBz"
      },
      "outputs": [],
      "source": [
        "#@title Abacus.AI API Key\n",
        "\n",
        "api_key = ''  #@param {type: \"string\"}"
      ]
    },
    {
      "cell_type": "markdown",
      "metadata": {
        "id": "o3sK0lOetkiU"
      },
      "source": [
        "3. Import the Abacus.AI library and instantiate a client."
      ]
    },
    {
      "cell_type": "code",
      "execution_count": null,
      "metadata": {
        "id": "L4C3hYOfimGj"
      },
      "outputs": [],
      "source": [
        "from abacusai import ApiClient\n",
        "client = ApiClient(api_key)"
      ]
    },
    {
      "cell_type": "code",
      "execution_count": null,
      "metadata": {
        "id": "upuKOC95im8n"
      },
      "outputs": [],
      "source": [
        "client.list_use_cases()"
      ]
    },
    {
      "cell_type": "code",
      "execution_count": null,
      "metadata": {
        "id": "1iJWuFNTin7y"
      },
      "outputs": [],
      "source": [
        "#@title Abacus.AI Use Case\n",
        "\n",
        "use_case = 'PREDICTING'  #@param {type: \"string\"}"
      ]
    },
    {
      "cell_type": "markdown",
      "metadata": {
        "id": "85y5OwIjQCRb"
      },
      "source": [
        "By calling the `describe_use_case_requirements` method we can view what datasets are required for this use_case."
      ]
    },
    {
      "cell_type": "code",
      "execution_count": null,
      "metadata": {
        "id": "2M2FZLhnio_a"
      },
      "outputs": [],
      "source": [
        "for requirement in client.describe_use_case_requirements(use_case):\n",
        "  pp.pprint(requirement.to_dict())"
      ]
    },
    {
      "cell_type": "markdown",
      "metadata": {
        "id": "n3QFhe96QEO6"
      },
      "source": [
        "Finally, let's create the project."
      ]
    },
    {
      "cell_type": "code",
      "execution_count": null,
      "metadata": {
        "id": "5r7LlrzPiufG"
      },
      "outputs": [],
      "source": [
        "lead_scoring_project = client.create_project(name='Predictive modeling', use_case=use_case)\n",
        "lead_scoring_project.to_dict()"
      ]
    },
    {
      "cell_type": "code",
      "execution_count": null,
      "metadata": {
        "id": "JyDeiPL3iv4a"
      },
      "outputs": [],
      "source": [
        "pd.read_csv('https://s3.amazonaws.com//realityengines.exampledatasets/predicting/red_wine_quality.csv')"
      ]
    },
    {
      "cell_type": "code",
      "execution_count": null,
      "metadata": {
        "id": "TP1gXiCriwyw"
      },
      "outputs": [],
      "source": [
        "lead_scoring_dataset = client.create_dataset_from_file_connector(name='red wine quality',table_name='red_wine_quality',\n",
        "                                     location='s3://realityengines.exampledatasets/predicting/red_wine_quality.csv',\n",
        "                                     refresh_schedule='0 12 * * *')\n",
        "datasets = [lead_scoring_dataset]\n",
        "for dataset in datasets:\n",
        "    dataset.wait_for_inspection()"
      ]
    },
    {
      "cell_type": "markdown",
      "metadata": {
        "id": "hgHdAV7WLbAd"
      },
      "source": [
        "SQL FG, Train and Deployment"
      ]
    },
    {
      "cell_type": "code",
      "execution_count": null,
      "metadata": {
        "id": "-rbVGuNy2JdF"
      },
      "outputs": [],
      "source": [
        "feature_group_sql = client.create_feature_group(table_name='Predictive_Lead_Scoring_SQL_FG',sql='SELECT fixed_acidity+volatile_acidity AS total_acidity,ph-(0.22*citric_acid) AS final_ph,residual_sugar,chlorides,density,sulphates,alcohol,free_sulfur_dioxide,total_sulfur_dioxide,quality  FROM red_wine_quality')"
      ]
    },
    {
      "cell_type": "code",
      "execution_count": null,
      "metadata": {
        "id": "sjzCoSW12KHz"
      },
      "outputs": [],
      "source": [
        "client.add_feature_group_to_project(feature_group_id=feature_group_sql.feature_group_id,project_id = lead_scoring_project.project_id)\n",
        "client.set_feature_group_type(feature_group_id=feature_group_sql.feature_group_id, project_id = lead_scoring_project.project_id, feature_group_type= \"CUSTOM_TABLE\")\n",
        "client.get_feature_group_schema(feature_group_id=feature_group_sql.feature_group_id)\n",
        "client.set_feature_mapping(project_id = lead_scoring_project.project_id,feature_group_id= feature_group_sql.feature_group_id, feature_name='quality',feature_mapping='TARGET')\n",
        "lead_scoring_project.validate(feature_group_ids=[feature_group_sql.feature_group_id])\n",
        "\n"
      ]
    },
    {
      "cell_type": "markdown",
      "source": [
        "Train SQL"
      ],
      "metadata": {
        "id": "uAZGu4LIcsVt"
      }
    },
    {
      "cell_type": "code",
      "source": [
        "lead_scoring_project.get_training_config_options(feature_group_ids=[feature_group_sql.feature_group_id])\n",
        "lead_scoring_model = lead_scoring_project.train_model(training_config={},feature_group_ids=[feature_group_sql.feature_group_id])\n",
        "print(lead_scoring_model.to_dict())\n",
        "lead_scoring_model.wait_for_full_automl()"
      ],
      "metadata": {
        "id": "6sojYYx7Z2FX"
      },
      "execution_count": null,
      "outputs": []
    },
    {
      "cell_type": "markdown",
      "source": [
        "Deploy SQL"
      ],
      "metadata": {
        "id": "CFXFtsh7cwhD"
      }
    },
    {
      "cell_type": "code",
      "source": [
        "pp.pprint(lead_scoring_model.get_metrics().to_dict())\n",
        "deployment_token = lead_scoring_project.create_deployment_token().deployment_token\n",
        "print(deployment_token)\n",
        "lead_scoring_deployment = client.create_deployment( name ='predicive Scoring Deployment', model_id=lead_scoring_model.model_id,description='predictive')\n",
        "lead_scoring_deployment.wait_for_deployment()"
      ],
      "metadata": {
        "id": "ddvwFMRZag5m"
      },
      "execution_count": null,
      "outputs": []
    },
    {
      "cell_type": "code",
      "source": [
        "feature_group_python=client.create_feature_group_from_function(\n",
        "    table_name=\"red_wine_quality_python2\",\n",
        "    function_source_code=\"def transform_data(input_fg_df):\\n input_fg_df['final_ph'] = input_fg_df['pH']-(0.22*input_fg_df['citric_acid'])\\n input_fg_df['total_acidity'] = input_fg_df['fixed_acidity']+input_fg_df['volatile_acidity']\\n return input_fg_df\",\n",
        "    function_name=\"transform_data\",\n",
        "    input_feature_groups=[\"sample_data_red_wine_quality_1662652291\"])\n",
        "\n",
        "\n",
        "#train python\n",
        "lead_scoring_project.get_training_config_options(feature_group_ids=[feature_group_python.feature_group_id])\n",
        "lead_scoring_model = lead_scoring_project.train_model(training_config={},feature_group_ids=[feature_group_python.feature_group_id])\n",
        "print(lead_scoring_model.to_dict())\n",
        "lead_scoring_model.wait_for_full_automl()\n",
        "\n",
        "\n",
        "\n",
        "#delpoy python\n",
        "pp.pprint(lead_scoring_model.get_metrics().to_dict())\n",
        "deployment_token = lead_scoring_project.create_deployment_token().deployment_token\n",
        "print(deployment_token)\n",
        "lead_scoring_deployment = client.create_deployment( name ='predicive Scoring Deployment python', model_id=lead_scoring_model.model_id,description='predictive')\n",
        "lead_scoring_deployment.wait_for_deployment()\n"
      ],
      "metadata": {
        "id": "5w9CsmmTPyS1"
      },
      "execution_count": null,
      "outputs": []
    },
    {
      "cell_type": "code",
      "source": [
        "feature_group_sampling=client.create_sampling_feature_group(\n",
        "    feature_group_id=\"54695426e\",\n",
        "    table_name=\"sample_fg1\",\n",
        "    sampling_config={\n",
        "        \"samplingMethod\": \"PERCENT_SAMPLING\",\n",
        "        \"keyColumns\": [],\n",
        "        \"samplePercent\": 0.6,\n",
        "    },\n",
        ")\n",
        "\n",
        "\n",
        "\n",
        "#train\n",
        "lead_scoring_project.get_training_config_options(feature_group_ids=[feature_group_sampling.feature_group_id])\n",
        "lead_scoring_model = lead_scoring_project.train_model(training_config={},feature_group_ids=[feature_group_sampling.feature_group_id])\n",
        "print(lead_scoring_model.to_dict())\n",
        "lead_scoring_model.wait_for_full_automl()\n",
        "\n",
        "\n",
        "#deploy \n",
        "pp.pprint(lead_scoring_model.get_metrics().to_dict())\n",
        "deployment_token = lead_scoring_project.create_deployment_token().deployment_token\n",
        "print(deployment_token)\n",
        "lead_scoring_deployment = client.create_deployment( name ='predictive model Deployment', model_id=lead_scoring_model.model_id, description='predictive')\n",
        "lead_scoring_deployment.wait_for_deployment()"
      ],
      "metadata": {
        "id": "qt7dHgc8QVIo"
      },
      "execution_count": null,
      "outputs": []
    },
    {
      "cell_type": "code",
      "execution_count": null,
      "metadata": {
        "id": "BKR3n9hkiy_h"
      },
      "outputs": [],
      "source": [
        "client.describe_use_case_requirements(use_case)[0].allowed_feature_mappings"
      ]
    },
    {
      "cell_type": "markdown",
      "metadata": {
        "id": "zicyhe0ISXlL"
      },
      "source": [
        "## 6. Predict\n"
      ]
    },
    {
      "cell_type": "code",
      "execution_count": null,
      "metadata": {
        "id": "xktIvJATjoFA"
      },
      "outputs": [],
      "source": [
        "ApiClient().predict(deployment_token=deployment_token,\n",
        "                         deployment_id=lead_scoring_deployment.deployment_id,\n",
        "                         query_data={\"fixed_acidity\":9.1,\"volatile_acidity\":0.47,\"citric_acid\":0.49,\"residual_sugar\":2.6,\"chlorides\":0.094,\"free_sulfur_dioxide\":38,\"total_sulfur_dioxide\":106,\"density\":0.9982,\"pH\":3.08,\"sulphates\":0.59,\"alcohol\":9.1})"
      ]
    },
    {
      "cell_type": "code",
      "source": [],
      "metadata": {
        "id": "ZZU_wtqxhqXt"
      },
      "execution_count": null,
      "outputs": []
    }
  ],
  "metadata": {
    "colab": {
      "collapsed_sections": [],
      "provenance": [],
      "include_colab_link": true
    },
    "interpreter": {
      "hash": "31f2aee4e71d21fbe5cf8b01ff0e069b9275f58929596ceb00d14d90e3e16cd6"
    },
    "kernelspec": {
      "display_name": "Python 3.8.10 64-bit",
      "name": "python3"
    },
    "language_info": {
      "codemirror_mode": {
        "name": "ipython",
        "version": 3
      },
      "file_extension": ".py",
      "mimetype": "text/x-python",
      "name": "python",
      "nbconvert_exporter": "python",
      "pygments_lexer": "ipython3",
      "version": "3.8.10"
    }
  },
  "nbformat": 4,
  "nbformat_minor": 0
}